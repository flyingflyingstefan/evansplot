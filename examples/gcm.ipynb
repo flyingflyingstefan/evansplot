{
 "cells": [
  {
   "cell_type": "code",
   "execution_count": null,
   "id": "aeb87825",
   "metadata": {},
   "outputs": [],
   "source": [
    "import evansplot\n",
    "import evansplot.data\n",
    "gcm_ds = evansplot.data.gcm()"
   ]
  },
  {
   "cell_type": "code",
   "execution_count": null,
   "id": "570e143b",
   "metadata": {},
   "outputs": [],
   "source": [
    "\n",
    "p = evansplot.evans_plot(gcm_ds, \n",
    "                     title = \"Change in Precipitation\",\n",
    "                     hue_var=\"anpre48_00\", \n",
    "                     sat_var=\"per_anpre48_00\",\n",
    "                     num_sat_levels=4,\n",
    "                     min_sat=-20,max_sat=20,\n",
    "                     hue_label=\"mm\", sat_label=\"%\",\n",
    "                     )"
   ]
  },
  {
   "cell_type": "code",
   "execution_count": null,
   "id": "1d0ed227",
   "metadata": {},
   "outputs": [],
   "source": [
    "\n",
    "p = evansplot.evans_plot(gcm_ds, \n",
    "                     title = \"Change in Precipitation\",\n",
    "                     hue_var=\"anpre48_00\", \n",
    "                     sat_var=\"per_anpre48_00\",\n",
    "                     hue_label=\"mm\", sat_label=\"%\",\n",
    "                     )"
   ]
  },
  {
   "cell_type": "code",
   "execution_count": null,
   "id": "361acdf9",
   "metadata": {},
   "outputs": [],
   "source": [
    "\n",
    "p = evansplot.evans_plot(gcm_ds, \n",
    "                     title = \"Change in Precipitation\",\n",
    "                     hue_var=\"anpre48_00\", \n",
    "                     sat_var=\"per_anpre48_00\",\n",
    "                     num_sat_levels=6,\n",
    "                     min_sat=2.5,max_sat=17.5,\n",
    "                     hue_label=\"mm\", sat_label=\"%\",\n",
    "                     )"
   ]
  },
  {
   "cell_type": "code",
   "execution_count": null,
   "id": "9ed567aa",
   "metadata": {},
   "outputs": [],
   "source": []
  }
 ],
 "metadata": {
  "kernelspec": {
   "display_name": "Python [conda env:access-vis]",
   "language": "python",
   "name": "conda-env-access-vis-py"
  },
  "language_info": {
   "codemirror_mode": {
    "name": "ipython",
    "version": 3
   },
   "file_extension": ".py",
   "mimetype": "text/x-python",
   "name": "python",
   "nbconvert_exporter": "python",
   "pygments_lexer": "ipython3",
   "version": "3.11.12"
  }
 },
 "nbformat": 4,
 "nbformat_minor": 5
}
