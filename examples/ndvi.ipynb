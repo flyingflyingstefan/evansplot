{
 "cells": [
  {
   "cell_type": "code",
   "execution_count": null,
   "id": "e1074e72",
   "metadata": {},
   "outputs": [],
   "source": [
    "# LOCAL CONFIGURATION\n",
    "# In order to import evansplot, if it is not installed as a module\n",
    "# and you've just downloaded it as source, you will need to conifgure PYTHONPATH thus:\n",
    "import sys\n",
    "sys.path.append(\"PATHto/evansplot/src\") \n",
    "\n",
    "# You will need to configure this to point to the \"examples\" directory where the data files are found\n",
    "EXAMPLES_DIR = \"PATHTO/evansplot/examples\"\n",
    "\n",
    "import evansplot\n",
    "import xarray as xr\n",
    "import os\n",
    "ndvi = xr.open_dataset(os.path.join(EXAMPLES_DIR, \"ndvi_time.nc\"))\n",
    "\n",
    "cm = 1/2.54 # centimeters in an inch\n"
   ]
  },
  {
   "cell_type": "code",
   "execution_count": null,
   "id": "c5e44a27",
   "metadata": {},
   "outputs": [],
   "source": [
    "import importlib\n",
    "importlib.reload(evansplot.plotters)"
   ]
  },
  {
   "cell_type": "code",
   "execution_count": null,
   "id": "c32e8309",
   "metadata": {},
   "outputs": [],
   "source": [
    "fig = evansplot.evans_plot(ndvi, \n",
    "                     hue_var=\"ndvi_timing\", \n",
    "                     sat_var=\"ndvi_max\", \n",
    "                     min_sat=0, max_sat=0.7,\n",
    "                     title = \"AVHRR NDVImax Timing\",\n",
    "                     hue_offset_deg = 30,\n",
    "                     hue_value_labels=evansplot.LABELS_MONTHS, \n",
    "                     cbar=\"cyclic\")"
   ]
  },
  {
   "cell_type": "code",
   "execution_count": null,
   "id": "a6f9b0d8",
   "metadata": {},
   "outputs": [],
   "source": [
    "\n",
    "fig = evansplot.evans_plot(ndvi, \n",
    "                     hue_var=\"ndvi_timing\", \n",
    "                     sat_var=\"ndvi_max\", \n",
    "                     hue_value_labels=evansplot.LABELS_MONTHS,\n",
    "                     min_sat=0, max_sat=0.7)"
   ]
  },
  {
   "cell_type": "code",
   "execution_count": null,
   "id": "974e4696",
   "metadata": {},
   "outputs": [],
   "source": [
    "fig = evansplot.evans_plot(ndvi, \n",
    "                     hue_var=\"ndvi_timing\", \n",
    "                     sat_var=\"ndvi_max\", \n",
    "                     num_sat_levels=7,\n",
    "                     hue_value_labels=evansplot.LABELS_MONTHS,\n",
    "                     hue_offset_deg=180,\n",
    "                     cbar='cyclic',\n",
    "                     min_sat=0.0,\n",
    "                     max_sat=0.7)\n",
    "fig.suptitle(\"AVHRR NDVImax Timing\", fontsize=30)"
   ]
  },
  {
   "cell_type": "code",
   "execution_count": null,
   "id": "c73cf193",
   "metadata": {},
   "outputs": [],
   "source": [
    "fig = evansplot.evans_plot(ndvi, \n",
    "                     title = \"AVHRR NDVImax Timing\",\n",
    "                     hue_var=\"ndvi_timing\", \n",
    "                     sat_var=\"ndvi_max\", \n",
    "                     hue_threshhold_step_size=3,\n",
    "                     num_sat_levels=5,\n",
    "                     figsize = (12, 5),\n",
    "                     hue_value_labels=[\"JFM\", \"AMJ\", \"JAS\", \"OND\"],\n",
    "                     cbar=\"cyclic\",\n",
    "                     min_sat=0.0,\n",
    "                     max_sat=0.7)"
   ]
  },
  {
   "cell_type": "code",
   "execution_count": null,
   "id": "0fddca0c",
   "metadata": {},
   "outputs": [],
   "source": [
    "\n",
    "fig = evansplot.evans_plot(ndvi, \n",
    "                     title = \"AVHRR NDVImax Timing\",\n",
    "                     hue_var=\"ndvi_timing\", \n",
    "                     sat_var=\"ndvi_max\", \n",
    "                     hue_threshhold_step_size=2,\n",
    "                     num_sat_levels=4,\n",
    "                     hue_offset_deg=0,\n",
    "                     cbar='cyclic',\n",
    "                     cmap='rainbow',\n",
    "                     figsize=(40*cm, 15*cm),\n",
    "                     min_sat=0.0,\n",
    "                     max_sat=0.7)"
   ]
  }
 ],
 "metadata": {
  "kernelspec": {
   "display_name": "Python [conda env:analysis3]",
   "language": "python",
   "name": "conda-env-analysis3-py"
  },
  "language_info": {
   "codemirror_mode": {
    "name": "ipython",
    "version": 3
   },
   "file_extension": ".py",
   "mimetype": "text/x-python",
   "name": "python",
   "nbconvert_exporter": "python",
   "pygments_lexer": "ipython3",
   "version": "3.10.14"
  }
 },
 "nbformat": 4,
 "nbformat_minor": 5
}
